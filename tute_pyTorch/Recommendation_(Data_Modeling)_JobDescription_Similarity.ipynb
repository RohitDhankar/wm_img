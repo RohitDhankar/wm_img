{
  "cells": [
    {
      "cell_type": "code",
      "source": [
        "# Author of this NoteBook - Shaurya Uppal\n",
        "## LinkedIn Profile Link: https://www.linkedin.com/in/shaurya-uppal/\n",
        "## For Consultation Connect (1:1 call): topmate.io/shaurya"
      ],
      "metadata": {
        "id": "_rCMDdfiw0gm"
      },
      "id": "_rCMDdfiw0gm",
      "execution_count": null,
      "outputs": []
    },
    {
      "cell_type": "markdown",
      "id": "9ec52e72",
      "metadata": {
        "id": "9ec52e72"
      },
      "source": [
        "### Library Installation"
      ]
    },
    {
      "cell_type": "code",
      "execution_count": null,
      "id": "a51c8569",
      "metadata": {
        "id": "a51c8569"
      },
      "outputs": [],
      "source": [
        "# !pip3 install -U sentence-transformers"
      ]
    },
    {
      "cell_type": "code",
      "execution_count": null,
      "id": "888ba8ee",
      "metadata": {
        "id": "888ba8ee"
      },
      "outputs": [],
      "source": [
        "# import nltk\n",
        "# nltk.download('stopwords')"
      ]
    },
    {
      "cell_type": "markdown",
      "id": "745905cf",
      "metadata": {
        "id": "745905cf"
      },
      "source": [
        "### Import Library"
      ]
    },
    {
      "cell_type": "code",
      "execution_count": null,
      "id": "20d4e05d",
      "metadata": {
        "id": "20d4e05d"
      },
      "outputs": [],
      "source": [
        "import pandas as pd\n",
        "import numpy as np\n",
        "import re\n",
        "import string\n",
        "from nltk.stem.wordnet import WordNetLemmatizer\n",
        "from nltk.tokenize import ToktokTokenizer\n",
        "from nltk.stem import PorterStemmer\n",
        "from nltk.corpus import stopwords\n",
        "\n",
        "import heapq\n",
        "from sklearn.metrics.pairwise import cosine_similarity\n",
        "\n",
        "\n",
        "toktok = ToktokTokenizer()\n",
        "lemma = WordNetLemmatizer()\n",
        "stemmer = PorterStemmer()\n",
        "stop_words = set(stopwords.words('english'))\n"
      ]
    },
    {
      "cell_type": "code",
      "execution_count": null,
      "id": "154fc249",
      "metadata": {
        "id": "154fc249",
        "outputId": "36c9d6a7-30a1-4d9f-be2a-067ebbfe1662"
      },
      "outputs": [
        {
          "data": {
            "text/html": [
              "<div>\n",
              "<style scoped>\n",
              "    .dataframe tbody tr th:only-of-type {\n",
              "        vertical-align: middle;\n",
              "    }\n",
              "\n",
              "    .dataframe tbody tr th {\n",
              "        vertical-align: top;\n",
              "    }\n",
              "\n",
              "    .dataframe thead th {\n",
              "        text-align: right;\n",
              "    }\n",
              "</style>\n",
              "<table border=\"1\" class=\"dataframe\">\n",
              "  <thead>\n",
              "    <tr style=\"text-align: right;\">\n",
              "      <th></th>\n",
              "      <th>JobId</th>\n",
              "      <th>Job Title</th>\n",
              "      <th>Job Description</th>\n",
              "      <th>Company Name</th>\n",
              "      <th>Type of ownership</th>\n",
              "    </tr>\n",
              "  </thead>\n",
              "  <tbody>\n",
              "    <tr>\n",
              "      <th>0</th>\n",
              "      <td>0</td>\n",
              "      <td>Data Analyst, Center on Immigration and Justic...</td>\n",
              "      <td>Are you eager to roll up your sleeves and harn...</td>\n",
              "      <td>Vera Institute of Justice\\n3.2</td>\n",
              "      <td>Nonprofit Organization</td>\n",
              "    </tr>\n",
              "    <tr>\n",
              "      <th>1</th>\n",
              "      <td>1</td>\n",
              "      <td>Quality Data Analyst</td>\n",
              "      <td>Overview\\n\\nProvides analytical and technical ...</td>\n",
              "      <td>Visiting Nurse Service of New York\\n3.8</td>\n",
              "      <td>Nonprofit Organization</td>\n",
              "    </tr>\n",
              "    <tr>\n",
              "      <th>2</th>\n",
              "      <td>2</td>\n",
              "      <td>Senior Data Analyst, Insights &amp; Analytics Team...</td>\n",
              "      <td>We’re looking for a Senior Data Analyst who ha...</td>\n",
              "      <td>Squarespace\\n3.4</td>\n",
              "      <td>Company - Private</td>\n",
              "    </tr>\n",
              "    <tr>\n",
              "      <th>3</th>\n",
              "      <td>3</td>\n",
              "      <td>Data Analyst</td>\n",
              "      <td>Requisition NumberRR-0001939\\nRemote:Yes\\nWe c...</td>\n",
              "      <td>Celerity\\n4.1</td>\n",
              "      <td>Subsidiary or Business Segment</td>\n",
              "    </tr>\n",
              "    <tr>\n",
              "      <th>4</th>\n",
              "      <td>4</td>\n",
              "      <td>Reporting Data Analyst</td>\n",
              "      <td>ABOUT FANDUEL GROUP\\n\\nFanDuel Group is a worl...</td>\n",
              "      <td>FanDuel\\n3.9</td>\n",
              "      <td>Company - Private</td>\n",
              "    </tr>\n",
              "    <tr>\n",
              "      <th>...</th>\n",
              "      <td>...</td>\n",
              "      <td>...</td>\n",
              "      <td>...</td>\n",
              "      <td>...</td>\n",
              "      <td>...</td>\n",
              "    </tr>\n",
              "    <tr>\n",
              "      <th>2247</th>\n",
              "      <td>2247</td>\n",
              "      <td>RQS - IHHA - 201900004460 -1q Data Security An...</td>\n",
              "      <td>Maintains systems to protect data from unautho...</td>\n",
              "      <td>Avacend, Inc.\\n2.5</td>\n",
              "      <td>Company - Private</td>\n",
              "    </tr>\n",
              "    <tr>\n",
              "      <th>2248</th>\n",
              "      <td>2248</td>\n",
              "      <td>Senior Data Analyst (Corporate Audit)</td>\n",
              "      <td>Position:\\nSenior Data Analyst (Corporate Audi...</td>\n",
              "      <td>Arrow Electronics\\n2.9</td>\n",
              "      <td>Company - Public</td>\n",
              "    </tr>\n",
              "    <tr>\n",
              "      <th>2249</th>\n",
              "      <td>2249</td>\n",
              "      <td>Technical Business Analyst (SQL, Data analytic...</td>\n",
              "      <td>Title: Technical Business Analyst (SQL, Data a...</td>\n",
              "      <td>Spiceorb</td>\n",
              "      <td>-1</td>\n",
              "    </tr>\n",
              "    <tr>\n",
              "      <th>2250</th>\n",
              "      <td>2250</td>\n",
              "      <td>Data Analyst 3, Customer Experience</td>\n",
              "      <td>Summary\\n\\nResponsible for working cross-funct...</td>\n",
              "      <td>Contingent Network Services\\n3.1</td>\n",
              "      <td>Company - Private</td>\n",
              "    </tr>\n",
              "    <tr>\n",
              "      <th>2251</th>\n",
              "      <td>2251</td>\n",
              "      <td>Senior Quality Data Analyst</td>\n",
              "      <td>You.\\n\\nYou bring your body, mind, heart and s...</td>\n",
              "      <td>SCL Health\\n3.4</td>\n",
              "      <td>Nonprofit Organization</td>\n",
              "    </tr>\n",
              "  </tbody>\n",
              "</table>\n",
              "<p>2252 rows × 5 columns</p>\n",
              "</div>"
            ],
            "text/plain": [
              "      JobId                                          Job Title  \\\n",
              "0         0  Data Analyst, Center on Immigration and Justic...   \n",
              "1         1                               Quality Data Analyst   \n",
              "2         2  Senior Data Analyst, Insights & Analytics Team...   \n",
              "3         3                                       Data Analyst   \n",
              "4         4                             Reporting Data Analyst   \n",
              "...     ...                                                ...   \n",
              "2247   2247  RQS - IHHA - 201900004460 -1q Data Security An...   \n",
              "2248   2248              Senior Data Analyst (Corporate Audit)   \n",
              "2249   2249  Technical Business Analyst (SQL, Data analytic...   \n",
              "2250   2250                Data Analyst 3, Customer Experience   \n",
              "2251   2251                        Senior Quality Data Analyst   \n",
              "\n",
              "                                        Job Description  \\\n",
              "0     Are you eager to roll up your sleeves and harn...   \n",
              "1     Overview\\n\\nProvides analytical and technical ...   \n",
              "2     We’re looking for a Senior Data Analyst who ha...   \n",
              "3     Requisition NumberRR-0001939\\nRemote:Yes\\nWe c...   \n",
              "4     ABOUT FANDUEL GROUP\\n\\nFanDuel Group is a worl...   \n",
              "...                                                 ...   \n",
              "2247  Maintains systems to protect data from unautho...   \n",
              "2248  Position:\\nSenior Data Analyst (Corporate Audi...   \n",
              "2249  Title: Technical Business Analyst (SQL, Data a...   \n",
              "2250  Summary\\n\\nResponsible for working cross-funct...   \n",
              "2251  You.\\n\\nYou bring your body, mind, heart and s...   \n",
              "\n",
              "                                 Company Name               Type of ownership  \n",
              "0              Vera Institute of Justice\\n3.2          Nonprofit Organization  \n",
              "1     Visiting Nurse Service of New York\\n3.8          Nonprofit Organization  \n",
              "2                            Squarespace\\n3.4               Company - Private  \n",
              "3                               Celerity\\n4.1  Subsidiary or Business Segment  \n",
              "4                                FanDuel\\n3.9               Company - Private  \n",
              "...                                       ...                             ...  \n",
              "2247                       Avacend, Inc.\\n2.5               Company - Private  \n",
              "2248                   Arrow Electronics\\n2.9                Company - Public  \n",
              "2249                                 Spiceorb                              -1  \n",
              "2250         Contingent Network Services\\n3.1               Company - Private  \n",
              "2251                          SCL Health\\n3.4          Nonprofit Organization  \n",
              "\n",
              "[2252 rows x 5 columns]"
            ]
          },
          "execution_count": 4,
          "metadata": {},
          "output_type": "execute_result"
        }
      ],
      "source": [
        "jobs_df = pd.read_csv('JobsData.csv')\n",
        "jobs_df"
      ]
    },
    {
      "cell_type": "code",
      "execution_count": null,
      "id": "52d7a075",
      "metadata": {
        "id": "52d7a075"
      },
      "outputs": [],
      "source": [
        "jobs_df['full_text'] = jobs_df['Job Title'] + ' ' + jobs_df['Job Description'] + ' ' + jobs_df['Company Name'] + ' ' + jobs_df['Type of ownership']\n",
        "jobs_df['raw_full_text'] = jobs_df['Job Title'] + ' ' + jobs_df['Job Description'] + ' ' + jobs_df['Company Name'] + ' ' + jobs_df['Type of ownership']"
      ]
    },
    {
      "cell_type": "code",
      "execution_count": null,
      "id": "6b06620d",
      "metadata": {
        "id": "6b06620d"
      },
      "outputs": [],
      "source": [
        "df = jobs_df[['JobId', 'raw_full_text', 'full_text']].copy()"
      ]
    },
    {
      "cell_type": "markdown",
      "id": "d297eec0",
      "metadata": {
        "id": "d297eec0"
      },
      "source": [
        "### Text Preprocessing"
      ]
    },
    {
      "cell_type": "code",
      "execution_count": null,
      "id": "21845155",
      "metadata": {
        "id": "21845155"
      },
      "outputs": [],
      "source": [
        "# products preprocessing\n",
        "\n",
        "def cleanhtml(raw_html):\n",
        "    '''\n",
        "    Input: HTML Text \n",
        "    Output: Cleaned HTML Text\n",
        "    <tag> </tag> removed and other cleaning\n",
        "    '''\n",
        "    cleantext = ''\n",
        "    try:\n",
        "        raw_html = raw_html.replace(\" br \", \" \")\n",
        "        raw_html = raw_html.replace(\"nbsp\",\" \")\n",
        "        raw_html = raw_html.replace(\"ndash\",\" \")\n",
        "        raw_html = raw_html.replace(\"&rsquo;\", ' ')\n",
        "        raw_html = raw_html.replace(\"&trade;\", ' ')\n",
        "        raw_html = raw_html.replace(\"&amp\",' ')\n",
        "        cleanr = re.compile('<.*?>')\n",
        "        cleantext = re.sub(cleanr, ' ', raw_html)\n",
        "        cleantext = ' '.join(cleantext.split())\n",
        "    except:\n",
        "        print(raw_html)\n",
        "    return cleantext\n",
        "\n",
        "def text_preprocessing(text):\n",
        "    text = text.lower()\n",
        "    text = text.translate(str.maketrans(' ', ' ', string.punctuation))\n",
        "    text = ' '.join(text.split())\n",
        "    return text\n",
        "\n",
        "df['full_text'] = np.vectorize(cleanhtml)(df['full_text'])\n",
        "df['full_text'] = np.vectorize(text_preprocessing)(df['full_text'])"
      ]
    },
    {
      "cell_type": "code",
      "execution_count": null,
      "id": "40e83649",
      "metadata": {
        "id": "40e83649",
        "outputId": "bbab3721-c7cd-4719-e7f0-82660c3a37af"
      },
      "outputs": [
        {
          "data": {
            "text/plain": [
              "'senior data analyst insights analytics team customer operations we’re looking for a senior data analyst who has a love of mentorship data visualization and generating actionable insights from raw data in this role you’ll have the opportunity to be an organizational influencer who will generate insights with a good degree of autonomy and partner with data science to grow deeper analytical skills you will be joining the insights analytics team a team tasked with developing insights and reporting to support our customers and advisors’ needs this team sits within the customer operations team but is also connected to the product organization in this role you will work mainly with customer operations stakeholders to set kpis and evaluate the effectiveness of current strategies and workflows you will be involved in many aspects of data operations from data auditing to building dashboards and analytical insights for example you will review the code of more junior analysts and organize coding workshops you will build metrics to evaluate the performance of our advisors eliminating confounding variables and creating weighted measures that account for individual success you will define metrics and create dashboards to track the success of the current strategic direction you will analyze the textbased interactions with our advisors to improve care quality you will also analyze interactions with our chatbot to improve the responses of the bot to match customer expectations you will collaborate with the data engineering team in pursuit of better data modeling and you can collaborate with the data science team on more modelingheavy pursuits like topic modeling or search recommendations you will be a mentor to all other members of the analytics team which demands that you excel in a culture of teaching and learning you will report to the manager of the insights analytics team customer operations in squarespace’s new york offices responsibilities design and develop kpis reports and dashboards using bidata visualization tools that clearly track the effectiveness of current strategies execute and communicate impactful analyses using sql and rpython to improve the customer experience and drive customer operations and product roadmap raise the skill level of the analytics team through reviewing code organizing training sessions acting as a mentor and introducing new analytical methods and tools help design and evaluate experiments and pilots setting clear hypotheses and success metrics as well as using the right statistical methods for analyses effectively partner with customer operations and product stakeholders as well as our data engineering team qualifications 4 or more years of experience as a data analyst data scientist or in a relevant field in which you have worked with large datasets to transform data to meaningful insights mastery of sql and experience with rpython experience with dashboardingbi tools like chartio looker tableau experience with data cleaning analysis and presentation to nontechnical stakeholders bachelor’s degree in a quantitative or logicdriven discipline intellectual curiosity and a deep love of mentorship and generating actionable insights preferred advanced degree master’s or phd in quantitative field preferred experience with topic modeling text analyticsnatural language processing we are hiring at various experience levels and we’re particularly interested in having a diverse team with a broad set of skills and viewpoints if this seems like an opportunity you’d like to explore but you’re not sure if you qualify we encourage you to apply anyway about squarespace squarespace makes beautiful products to help people with creative ideas succeed by blending elegant design and sophisticated engineering we empower millions of people — from individuals and local artists to entrepreneurs shaping the world’s most iconic businesses — to share their stories with the world squarespace’s team of more than 900 is headquartered in downtown new york city with offices in dublin and portland for more information visit wwwsquarespacecomabout today more than a million people around the globe use squarespace to share different perspectives and experiences with the world not only do we embrace and celebrate the diversity of our customer base but we also strive for the same in our employees at squarespace we are committed to equal employment opportunity regardless of race color ancestry religion sex national origin sexual orientation age citizenship marital status disability gender gender identity or expression or veteran status we are proud to be an equal opportunity workplace squarespace 34 company private'"
            ]
          },
          "execution_count": 8,
          "metadata": {},
          "output_type": "execute_result"
        }
      ],
      "source": [
        "df['full_text'][2]"
      ]
    },
    {
      "cell_type": "code",
      "execution_count": null,
      "id": "fb684283",
      "metadata": {
        "id": "fb684283"
      },
      "outputs": [],
      "source": [
        "def _lemma(text):\n",
        "    try:\n",
        "        doc = toktok.tokenize(text)\n",
        "        text = [x for x in doc if x not in stop_words]\n",
        "        text = [lemma.lemmatize(x) for x in doc]\n",
        "        text = ' '.join(text)\n",
        "    except:\n",
        "        print(text)\n",
        "    return text\n",
        "\n",
        "\n",
        "df['full_text'] = np.vectorize(_lemma)(df['full_text'])"
      ]
    },
    {
      "cell_type": "code",
      "execution_count": null,
      "id": "9b7333a4",
      "metadata": {
        "id": "9b7333a4",
        "outputId": "d011bd00-7b76-4daf-e423-9f030f63f647"
      },
      "outputs": [
        {
          "data": {
            "text/html": [
              "<div>\n",
              "<style scoped>\n",
              "    .dataframe tbody tr th:only-of-type {\n",
              "        vertical-align: middle;\n",
              "    }\n",
              "\n",
              "    .dataframe tbody tr th {\n",
              "        vertical-align: top;\n",
              "    }\n",
              "\n",
              "    .dataframe thead th {\n",
              "        text-align: right;\n",
              "    }\n",
              "</style>\n",
              "<table border=\"1\" class=\"dataframe\">\n",
              "  <thead>\n",
              "    <tr style=\"text-align: right;\">\n",
              "      <th></th>\n",
              "      <th>JobId</th>\n",
              "      <th>raw_full_text</th>\n",
              "      <th>full_text</th>\n",
              "    </tr>\n",
              "  </thead>\n",
              "  <tbody>\n",
              "    <tr>\n",
              "      <th>0</th>\n",
              "      <td>0</td>\n",
              "      <td>Data Analyst, Center on Immigration and Justic...</td>\n",
              "      <td>data analyst center on immigration and justice...</td>\n",
              "    </tr>\n",
              "    <tr>\n",
              "      <th>1</th>\n",
              "      <td>1</td>\n",
              "      <td>Quality Data Analyst Overview\\n\\nProvides anal...</td>\n",
              "      <td>quality data analyst overview provides analyti...</td>\n",
              "    </tr>\n",
              "    <tr>\n",
              "      <th>2</th>\n",
              "      <td>2</td>\n",
              "      <td>Senior Data Analyst, Insights &amp; Analytics Team...</td>\n",
              "      <td>senior data analyst insight analytics team cus...</td>\n",
              "    </tr>\n",
              "    <tr>\n",
              "      <th>3</th>\n",
              "      <td>3</td>\n",
              "      <td>Data Analyst Requisition NumberRR-0001939\\nRem...</td>\n",
              "      <td>data analyst requisition numberrr0001939 remot...</td>\n",
              "    </tr>\n",
              "    <tr>\n",
              "      <th>4</th>\n",
              "      <td>4</td>\n",
              "      <td>Reporting Data Analyst ABOUT FANDUEL GROUP\\n\\n...</td>\n",
              "      <td>reporting data analyst about fanduel group fan...</td>\n",
              "    </tr>\n",
              "    <tr>\n",
              "      <th>...</th>\n",
              "      <td>...</td>\n",
              "      <td>...</td>\n",
              "      <td>...</td>\n",
              "    </tr>\n",
              "    <tr>\n",
              "      <th>2247</th>\n",
              "      <td>2247</td>\n",
              "      <td>RQS - IHHA - 201900004460 -1q Data Security An...</td>\n",
              "      <td>rqs ihha 201900004460 1q data security analyst...</td>\n",
              "    </tr>\n",
              "    <tr>\n",
              "      <th>2248</th>\n",
              "      <td>2248</td>\n",
              "      <td>Senior Data Analyst (Corporate Audit) Position...</td>\n",
              "      <td>senior data analyst corporate audit position s...</td>\n",
              "    </tr>\n",
              "    <tr>\n",
              "      <th>2249</th>\n",
              "      <td>2249</td>\n",
              "      <td>Technical Business Analyst (SQL, Data analytic...</td>\n",
              "      <td>technical business analyst sql data analytics ...</td>\n",
              "    </tr>\n",
              "    <tr>\n",
              "      <th>2250</th>\n",
              "      <td>2250</td>\n",
              "      <td>Data Analyst 3, Customer Experience Summary\\n\\...</td>\n",
              "      <td>data analyst 3 customer experience summary res...</td>\n",
              "    </tr>\n",
              "    <tr>\n",
              "      <th>2251</th>\n",
              "      <td>2251</td>\n",
              "      <td>Senior Quality Data Analyst You.\\n\\nYou bring ...</td>\n",
              "      <td>senior quality data analyst you you bring your...</td>\n",
              "    </tr>\n",
              "  </tbody>\n",
              "</table>\n",
              "<p>2252 rows × 3 columns</p>\n",
              "</div>"
            ],
            "text/plain": [
              "      JobId                                      raw_full_text  \\\n",
              "0         0  Data Analyst, Center on Immigration and Justic...   \n",
              "1         1  Quality Data Analyst Overview\\n\\nProvides anal...   \n",
              "2         2  Senior Data Analyst, Insights & Analytics Team...   \n",
              "3         3  Data Analyst Requisition NumberRR-0001939\\nRem...   \n",
              "4         4  Reporting Data Analyst ABOUT FANDUEL GROUP\\n\\n...   \n",
              "...     ...                                                ...   \n",
              "2247   2247  RQS - IHHA - 201900004460 -1q Data Security An...   \n",
              "2248   2248  Senior Data Analyst (Corporate Audit) Position...   \n",
              "2249   2249  Technical Business Analyst (SQL, Data analytic...   \n",
              "2250   2250  Data Analyst 3, Customer Experience Summary\\n\\...   \n",
              "2251   2251  Senior Quality Data Analyst You.\\n\\nYou bring ...   \n",
              "\n",
              "                                              full_text  \n",
              "0     data analyst center on immigration and justice...  \n",
              "1     quality data analyst overview provides analyti...  \n",
              "2     senior data analyst insight analytics team cus...  \n",
              "3     data analyst requisition numberrr0001939 remot...  \n",
              "4     reporting data analyst about fanduel group fan...  \n",
              "...                                                 ...  \n",
              "2247  rqs ihha 201900004460 1q data security analyst...  \n",
              "2248  senior data analyst corporate audit position s...  \n",
              "2249  technical business analyst sql data analytics ...  \n",
              "2250  data analyst 3 customer experience summary res...  \n",
              "2251  senior quality data analyst you you bring your...  \n",
              "\n",
              "[2252 rows x 3 columns]"
            ]
          },
          "execution_count": 10,
          "metadata": {},
          "output_type": "execute_result"
        }
      ],
      "source": [
        "df"
      ]
    },
    {
      "cell_type": "markdown",
      "id": "a7984734",
      "metadata": {
        "id": "a7984734"
      },
      "source": [
        "## Iteration1: TFIDF\n",
        "### Lexical Similarity Model \n",
        "### Based on Syntactic Similarity "
      ]
    },
    {
      "cell_type": "code",
      "execution_count": null,
      "id": "9a7650f1",
      "metadata": {
        "id": "9a7650f1"
      },
      "outputs": [],
      "source": [
        "from sklearn.feature_extraction.text import TfidfVectorizer\n",
        "\n",
        "tfidf = TfidfVectorizer(token_pattern='(?u)\\\\b\\\\w\\\\w+\\\\b', ngram_range=(1,2),stop_words='english', analyzer = 'word')\n",
        "features = tfidf.fit_transform(df['full_text'].values.tolist())\n"
      ]
    },
    {
      "cell_type": "code",
      "execution_count": null,
      "id": "08bd277c",
      "metadata": {
        "id": "08bd277c"
      },
      "outputs": [],
      "source": [
        "df_tfidf = pd.DataFrame(features.todense(), columns = tfidf.get_feature_names())"
      ]
    },
    {
      "cell_type": "code",
      "execution_count": null,
      "id": "a92ffeaf",
      "metadata": {
        "id": "a92ffeaf",
        "outputId": "135f8927-6c78-429f-bb47-5fded8700b17"
      },
      "outputs": [
        {
          "data": {
            "text/plain": [
              "(2252, 2252)"
            ]
          },
          "execution_count": 13,
          "metadata": {},
          "output_type": "execute_result"
        }
      ],
      "source": [
        "similarity_matrix = cosine_similarity(df_tfidf, df_tfidf)\n",
        "similarity_matrix.shape"
      ]
    },
    {
      "cell_type": "code",
      "execution_count": null,
      "id": "70e0c922",
      "metadata": {
        "id": "70e0c922",
        "outputId": "dbc28d1e-3a60-450a-d05c-774799ce5419"
      },
      "outputs": [
        {
          "data": {
            "text/plain": [
              "[(0, 1.0000000000000027),\n",
              " (57, 0.09480311836450478),\n",
              " (1132, 0.08352838894459505),\n",
              " (209, 0.08024223213056117),\n",
              " (542, 0.07973942104832707),\n",
              " (242, 0.07880632729834099),\n",
              " (415, 0.06781506048285647),\n",
              " (193, 0.06778610639333396),\n",
              " (87, 0.06577036603393609),\n",
              " (395, 0.0657389046981423)]"
            ]
          },
          "execution_count": 14,
          "metadata": {},
          "output_type": "execute_result"
        }
      ],
      "source": [
        "# top 10 similar items to an given item\n",
        "heapq.nlargest(10, enumerate(similarity_matrix[0]), key=lambda x: x[1])"
      ]
    },
    {
      "cell_type": "code",
      "execution_count": null,
      "id": "156f6b02",
      "metadata": {
        "id": "156f6b02"
      },
      "outputs": [],
      "source": [
        "df['recommendation_list_tfidf'] = None\n",
        "topK = 10\n",
        "for indx in df.index:\n",
        "    df.at[indx, 'recommendation_list_tfidf'] = [a for a,b in heapq.nlargest(topK+1, enumerate(similarity_matrix[df[df['JobId']==df.at[indx, 'JobId']].index[0]]), key=lambda x: x[1])][1:]"
      ]
    },
    {
      "cell_type": "code",
      "execution_count": null,
      "id": "9b975547",
      "metadata": {
        "id": "9b975547",
        "outputId": "977c121e-a613-41d8-9acb-637702998374"
      },
      "outputs": [
        {
          "data": {
            "text/html": [
              "<div>\n",
              "<style scoped>\n",
              "    .dataframe tbody tr th:only-of-type {\n",
              "        vertical-align: middle;\n",
              "    }\n",
              "\n",
              "    .dataframe tbody tr th {\n",
              "        vertical-align: top;\n",
              "    }\n",
              "\n",
              "    .dataframe thead th {\n",
              "        text-align: right;\n",
              "    }\n",
              "</style>\n",
              "<table border=\"1\" class=\"dataframe\">\n",
              "  <thead>\n",
              "    <tr style=\"text-align: right;\">\n",
              "      <th></th>\n",
              "      <th>JobId</th>\n",
              "      <th>raw_full_text</th>\n",
              "      <th>full_text</th>\n",
              "      <th>recommendation_list_tfidf</th>\n",
              "    </tr>\n",
              "  </thead>\n",
              "  <tbody>\n",
              "    <tr>\n",
              "      <th>0</th>\n",
              "      <td>0</td>\n",
              "      <td>Data Analyst, Center on Immigration and Justic...</td>\n",
              "      <td>data analyst center on immigration and justice...</td>\n",
              "      <td>[57, 1132, 209, 542, 242, 415, 193, 87, 395, 408]</td>\n",
              "    </tr>\n",
              "    <tr>\n",
              "      <th>1</th>\n",
              "      <td>1</td>\n",
              "      <td>Quality Data Analyst Overview\\n\\nProvides anal...</td>\n",
              "      <td>quality data analyst overview provides analyti...</td>\n",
              "      <td>[281, 1649, 339, 829, 875, 668, 618, 1345, 277...</td>\n",
              "    </tr>\n",
              "    <tr>\n",
              "      <th>2</th>\n",
              "      <td>2</td>\n",
              "      <td>Senior Data Analyst, Insights &amp; Analytics Team...</td>\n",
              "      <td>senior data analyst insight analytics team cus...</td>\n",
              "      <td>[1523, 797, 1608, 775, 552, 974, 1033, 1915, 6...</td>\n",
              "    </tr>\n",
              "    <tr>\n",
              "      <th>3</th>\n",
              "      <td>3</td>\n",
              "      <td>Data Analyst Requisition NumberRR-0001939\\nRem...</td>\n",
              "      <td>data analyst requisition numberrr0001939 remot...</td>\n",
              "      <td>[1883, 165, 631, 234, 305, 2230, 741, 2224, 64...</td>\n",
              "    </tr>\n",
              "    <tr>\n",
              "      <th>4</th>\n",
              "      <td>4</td>\n",
              "      <td>Reporting Data Analyst ABOUT FANDUEL GROUP\\n\\n...</td>\n",
              "      <td>reporting data analyst about fanduel group fan...</td>\n",
              "      <td>[1588, 1178, 1890, 653, 385, 1983, 681, 252, 1...</td>\n",
              "    </tr>\n",
              "    <tr>\n",
              "      <th>...</th>\n",
              "      <td>...</td>\n",
              "      <td>...</td>\n",
              "      <td>...</td>\n",
              "      <td>...</td>\n",
              "    </tr>\n",
              "    <tr>\n",
              "      <th>2247</th>\n",
              "      <td>2247</td>\n",
              "      <td>RQS - IHHA - 201900004460 -1q Data Security An...</td>\n",
              "      <td>rqs ihha 201900004460 1q data security analyst...</td>\n",
              "      <td>[2223, 2239, 2204, 2240, 2243, 2221, 1539, 177...</td>\n",
              "    </tr>\n",
              "    <tr>\n",
              "      <th>2248</th>\n",
              "      <td>2248</td>\n",
              "      <td>Senior Data Analyst (Corporate Audit) Position...</td>\n",
              "      <td>senior data analyst corporate audit position s...</td>\n",
              "      <td>[1466, 1580, 1835, 2086, 567, 1454, 1882, 2072...</td>\n",
              "    </tr>\n",
              "    <tr>\n",
              "      <th>2249</th>\n",
              "      <td>2249</td>\n",
              "      <td>Technical Business Analyst (SQL, Data analytic...</td>\n",
              "      <td>technical business analyst sql data analytics ...</td>\n",
              "      <td>[2245, 2216, 2185, 1197, 1194, 2062, 1975, 952...</td>\n",
              "    </tr>\n",
              "    <tr>\n",
              "      <th>2250</th>\n",
              "      <td>2250</td>\n",
              "      <td>Data Analyst 3, Customer Experience Summary\\n\\...</td>\n",
              "      <td>data analyst 3 customer experience summary res...</td>\n",
              "      <td>[2233, 2212, 679, 1518, 1624, 741, 2072, 544, ...</td>\n",
              "    </tr>\n",
              "    <tr>\n",
              "      <th>2251</th>\n",
              "      <td>2251</td>\n",
              "      <td>Senior Quality Data Analyst You.\\n\\nYou bring ...</td>\n",
              "      <td>senior quality data analyst you you bring your...</td>\n",
              "      <td>[1602, 1191, 1408, 1345, 384, 1882, 460, 1172,...</td>\n",
              "    </tr>\n",
              "  </tbody>\n",
              "</table>\n",
              "<p>2252 rows × 4 columns</p>\n",
              "</div>"
            ],
            "text/plain": [
              "      JobId                                      raw_full_text  \\\n",
              "0         0  Data Analyst, Center on Immigration and Justic...   \n",
              "1         1  Quality Data Analyst Overview\\n\\nProvides anal...   \n",
              "2         2  Senior Data Analyst, Insights & Analytics Team...   \n",
              "3         3  Data Analyst Requisition NumberRR-0001939\\nRem...   \n",
              "4         4  Reporting Data Analyst ABOUT FANDUEL GROUP\\n\\n...   \n",
              "...     ...                                                ...   \n",
              "2247   2247  RQS - IHHA - 201900004460 -1q Data Security An...   \n",
              "2248   2248  Senior Data Analyst (Corporate Audit) Position...   \n",
              "2249   2249  Technical Business Analyst (SQL, Data analytic...   \n",
              "2250   2250  Data Analyst 3, Customer Experience Summary\\n\\...   \n",
              "2251   2251  Senior Quality Data Analyst You.\\n\\nYou bring ...   \n",
              "\n",
              "                                              full_text  \\\n",
              "0     data analyst center on immigration and justice...   \n",
              "1     quality data analyst overview provides analyti...   \n",
              "2     senior data analyst insight analytics team cus...   \n",
              "3     data analyst requisition numberrr0001939 remot...   \n",
              "4     reporting data analyst about fanduel group fan...   \n",
              "...                                                 ...   \n",
              "2247  rqs ihha 201900004460 1q data security analyst...   \n",
              "2248  senior data analyst corporate audit position s...   \n",
              "2249  technical business analyst sql data analytics ...   \n",
              "2250  data analyst 3 customer experience summary res...   \n",
              "2251  senior quality data analyst you you bring your...   \n",
              "\n",
              "                              recommendation_list_tfidf  \n",
              "0     [57, 1132, 209, 542, 242, 415, 193, 87, 395, 408]  \n",
              "1     [281, 1649, 339, 829, 875, 668, 618, 1345, 277...  \n",
              "2     [1523, 797, 1608, 775, 552, 974, 1033, 1915, 6...  \n",
              "3     [1883, 165, 631, 234, 305, 2230, 741, 2224, 64...  \n",
              "4     [1588, 1178, 1890, 653, 385, 1983, 681, 252, 1...  \n",
              "...                                                 ...  \n",
              "2247  [2223, 2239, 2204, 2240, 2243, 2221, 1539, 177...  \n",
              "2248  [1466, 1580, 1835, 2086, 567, 1454, 1882, 2072...  \n",
              "2249  [2245, 2216, 2185, 1197, 1194, 2062, 1975, 952...  \n",
              "2250  [2233, 2212, 679, 1518, 1624, 741, 2072, 544, ...  \n",
              "2251  [1602, 1191, 1408, 1345, 384, 1882, 460, 1172,...  \n",
              "\n",
              "[2252 rows x 4 columns]"
            ]
          },
          "execution_count": 16,
          "metadata": {},
          "output_type": "execute_result"
        }
      ],
      "source": [
        "df"
      ]
    },
    {
      "cell_type": "markdown",
      "id": "86c420b7",
      "metadata": {
        "id": "86c420b7"
      },
      "source": [
        "## Iteration 2: Text Similarity based on Semantics"
      ]
    },
    {
      "cell_type": "code",
      "execution_count": null,
      "id": "ef7f630f",
      "metadata": {
        "id": "ef7f630f"
      },
      "outputs": [],
      "source": [
        "from gensim.models.doc2vec import Doc2Vec, TaggedDocument\n",
        "documents = [TaggedDocument(doc, [i]) for i, doc in enumerate(df.full_text.values.tolist())]"
      ]
    },
    {
      "cell_type": "code",
      "execution_count": null,
      "id": "e4f05038",
      "metadata": {
        "id": "e4f05038"
      },
      "outputs": [],
      "source": [
        "model = Doc2Vec(documents, vector_size=40, window=3, min_count=2, workers=4, epochs=50, negative= 5, seed = 0)"
      ]
    },
    {
      "cell_type": "code",
      "execution_count": null,
      "id": "72e462cc",
      "metadata": {
        "id": "72e462cc"
      },
      "outputs": [],
      "source": [
        "# model.save(\"d2v.model\")"
      ]
    },
    {
      "cell_type": "code",
      "execution_count": null,
      "id": "450295b3",
      "metadata": {
        "id": "450295b3",
        "outputId": "76fc2090-1ead-473c-e838-2a08400107dd"
      },
      "outputs": [
        {
          "data": {
            "text/plain": [
              "[(1049, 0.8217266201972961),\n",
              " (973, 0.7813266515731812),\n",
              " (1560, 0.7508060932159424),\n",
              " (1446, 0.7015277743339539),\n",
              " (1930, 0.6908974647521973),\n",
              " (559, 0.6859457492828369),\n",
              " (571, 0.683448076248169),\n",
              " (1044, 0.6799439191818237),\n",
              " (484, 0.6780128479003906),\n",
              " (987, 0.6734771132469177)]"
            ]
          },
          "execution_count": 20,
          "metadata": {},
          "output_type": "execute_result"
        }
      ],
      "source": [
        "model.dv.most_similar(0, topn=10)"
      ]
    },
    {
      "cell_type": "code",
      "execution_count": null,
      "id": "565dc33b",
      "metadata": {
        "id": "565dc33b",
        "outputId": "c8b97b5c-b3ad-4c70-98ff-8cbc35fb0dbe"
      },
      "outputs": [
        {
          "name": "stdout",
          "output_type": "stream",
          "text": [
            "TaggedDocument(data analyst center on immigration and justice cij are you eager to roll up your sleeve and harness data to drive policy change do you enjoy sifting through complex datasets to illuminate trend and insight do you see yourself working for a valuesdriven organization with a vision to tackle the most pressing injustice of our day we are looking to hire a bright hardworking and creative individual with strong data management skill and a demonstrated commitment to immigrant right the data analyst will assist with analysis and reporting need for veras center on immigration and justice cij working across it current project and future vera initiative who we are founded in 1961 the vera institute is an independent nonpartisan nonprofit organization that combine expertise in research technical assistance and demonstration project to assist leader in government and civil society examine justice policy and practice and improve the system people rely on for justice and safety we study problem that impede human dignity and justice we pilot solution that are at once transformative and achievable we engage diverse community in informed debate and we harness the power of evidence to drive effective policy and practice what were doing we are helping to build a movementamong government leader advocate and the immigration legal service communitytowards universal legal representation for immigrant facing deportation in the face of steppedup immigration enforcement million of noncitizen are at risk of extended detention and permanent separation from their family and community veras center on immigration and justice cij partner with government nonprofit partner and community to improve government system that affect immigrant and their family cij administers several nationwide legal service program for immigrant facing deportation develops and implement pilot program provides technical assistance and conduct independent research and evaluation thats where you come in the data analyst will support the center programmatic effort through regular monitoring and reporting of federal government and subcontractor data cij manages several proprietary database that run on aws and caspio and us sql r and python to manage data this is an opportunity to help shape an innovative national research and policy agenda a part of a dedicated team of expert working to improve access to justice for noncitizen vera seek to hire a data analyst to work on various data management project with it center on immigration and justice cij in collaboration with other data analyst this position will involve work across several project such a the unaccompanied childrens program ucp a program to increase legal representation for immigrant child facing deportation without a parent or legal guardian the position may cover additional duty for the legal orientation program for custodian lopc which educates the custodian of unaccompanied child about their right and the immigration court process about the role a a data analyst you will report to a member of the research team and work in close collaboration with other vera staff on ongoing database management monitoring reporting and analysis project youll support the team by taking ownership of ongoing monitoring and reporting task involving large data set other principal responsibility will include supporting research staff by preparing large datasets for analysis including merging cleaning and recoding data providing insight into program performance through summary statistic and performance indicator producing timely report on vera project for team member and stakeholder improving recurring reporting process by optimizing code and producing subsequent documentation coordinating database management task such a participating in new database design modifying existing database and communicating with outside engineer and subcontractor developing codebooks and delivering user training through webinars and database guide building and maintaining interactive dashboard documenting and correcting data quality issue working with supervisor to prioritize program need assisting on other project and task a assigned about you youre committed to improving issue affecting immigrant in the united state applicant with personal experience with the immigration system are especially encouraged to apply youre just getting started in your career and have 1 2 year of professional or internship experience working with large datasets and preparing data for analysis you have a real enthusiasm for working with data you are comfortable writing query in sql r andor python or have a solid foundation coding in other programming language used to manipulate data experience working collaboratively using tool like gitgithub is a plus you have exceptional attention to detail strong problemsolving ability and logical reasoning skill and the ability to detect anomaly in data youre able to work on multiple project effectively and efficiently both independently and collaboratively with a team this position involves working with secure data that may require government security clearance that clearance is restricted to u citizen and citizen of country that are party to collective defense agreement with the u the list of those country is detailed on this webpage an additional requirement of that clearance is residence in the united state for at least three of the last five year how to apply please submit cover letter and resume application will be considered on a rolling basis until position is filled online submission in pdf format is preferred application with no cover letter attached will not be considered the cover letter should address your interest in cij and this position however if necessary material may be mailed or faxed to attn human resource cij data analyst recruitment vera institute of justice 34 35th st suite 42a brooklyn ny 11232 fax 212 9419407 please use only one method online mail or fax of submission no phone call please only applicant selected for interview will be contacted vera is an equal opportunityaffirmative action employer all qualified applicant will be considered for employment without unlawful discrimination based on race color creed national origin sex age disability marital status sexual orientation military status prior record of arrest or conviction citizenship status current employment status or caregiver status vera work to advance justice particularly racial justice in an increasingly multicultural country and globally connected world we value diverse experience including with regard to educational background and justice system contact and depend on a diverse staff to carry out our mission for more information about vera and cijs work please visit wwwveraorg powered by jazzhr vera institute of justice 32 nonprofit organization, [0])\n",
            "TaggedDocument(civil engineergis data analyst we create great place and the connection that get people and good movingwhether by car bus train plane or their own two foot working within the context of the community we serve we provide planning engineering and infrastructure management service that fit the need of our client and improve the overall transportation experience join our team and help u keep community connected your opportunity an opportunity is available for a junior civil engineer civil engineerintraining eit or a gi data analyst to join our infrastructure management and pavement engineering impe team in phoenix az we are looking to fill this position a soon a the right candidate is found this position may involve field work and travelling within the u specialized training will be provided to the successful applicant to be considered for this opportunity applicant must have a bachelor degree from an accredited postsecondary institution majoring in a civiltransportation engineering program gi or a related field with a big company come big opportunity joining stantecs impe team will allow the successful candidate to experience a wide range of office and field learning opportunity in the transportation engineering practice your key responsibility assist with report writing and conduct literature review assist project manager with data analysis quality controlassurance of pavement performance data collect pavement investigation information pavement performance data material sampling and other field activity organize and manage field and spatial data to ensure quality and consistency analyze pavement investigation information pavement performance data material sampling and climatic data keep detailed project record and be responsible for organizing your work in the office and field your capability and credential gi knowledge and handson experience is essential for this job a the successful candidate you have a sound technical infrastructure roadway and geotechnical background and are willing to take on a diversity of task which may include both field and office work an understanding of transportation engineering and more specifically pavement material and pavement assessment procedure would be an asset alongside previous experience with geotechnical investigation andor pavement data collection pavement management system pm experience is desirable but not a must strong communication skill both written and verbal along with excellent interpersonal ability be able to demonstrate a strong working proficiency with the window operating system and microsoft office product education and experience bachelor degree or equivalent in civil engineering or related field licensed professional engineer a plus minimum of 23 year of experience position will primarily work in an office setting may require some field work this description is not a comprehensive listing of activity duty or responsibility that may be required of the employee and other duty responsibility and activity may be assigned or may be changed at any time with or without notice stantec is a place where the best and brightest come to build on each others talent do exciting work and make an impact on the world around u join u and redefine your personal best job civil engineer primary location united statesarizonachandler employee status regular job level individual contributor travel yes 20 of the time schedule fulltime req id 200000d0 stantec 37 company public, [1049])\n"
          ]
        }
      ],
      "source": [
        "print(documents[0])\n",
        "print(documents[1049])"
      ]
    },
    {
      "cell_type": "code",
      "execution_count": null,
      "id": "6cbae022",
      "metadata": {
        "id": "6cbae022",
        "outputId": "ca833772-fdf2-4d2f-e19d-6f77116d494d"
      },
      "outputs": [
        {
          "data": {
            "text/html": [
              "<div>\n",
              "<style scoped>\n",
              "    .dataframe tbody tr th:only-of-type {\n",
              "        vertical-align: middle;\n",
              "    }\n",
              "\n",
              "    .dataframe tbody tr th {\n",
              "        vertical-align: top;\n",
              "    }\n",
              "\n",
              "    .dataframe thead th {\n",
              "        text-align: right;\n",
              "    }\n",
              "</style>\n",
              "<table border=\"1\" class=\"dataframe\">\n",
              "  <thead>\n",
              "    <tr style=\"text-align: right;\">\n",
              "      <th></th>\n",
              "      <th>JobId</th>\n",
              "      <th>raw_full_text</th>\n",
              "      <th>full_text</th>\n",
              "      <th>recommendation_list_tfidf</th>\n",
              "      <th>recommendation_list_Doc2Vec</th>\n",
              "    </tr>\n",
              "  </thead>\n",
              "  <tbody>\n",
              "    <tr>\n",
              "      <th>0</th>\n",
              "      <td>0</td>\n",
              "      <td>Data Analyst, Center on Immigration and Justic...</td>\n",
              "      <td>data analyst center on immigration and justice...</td>\n",
              "      <td>[57, 1132, 209, 542, 242, 415, 193, 87, 395, 408]</td>\n",
              "      <td>[1049, 973, 1560, 1446, 1930, 559, 571, 1044, ...</td>\n",
              "    </tr>\n",
              "    <tr>\n",
              "      <th>1</th>\n",
              "      <td>1</td>\n",
              "      <td>Quality Data Analyst Overview\\n\\nProvides anal...</td>\n",
              "      <td>quality data analyst overview provides analyti...</td>\n",
              "      <td>[281, 1649, 339, 829, 875, 668, 618, 1345, 277...</td>\n",
              "      <td>[250, 668, 1618, 467, 1029, 2187, 613, 1528, 1...</td>\n",
              "    </tr>\n",
              "    <tr>\n",
              "      <th>2</th>\n",
              "      <td>2</td>\n",
              "      <td>Senior Data Analyst, Insights &amp; Analytics Team...</td>\n",
              "      <td>senior data analyst insight analytics team cus...</td>\n",
              "      <td>[1523, 797, 1608, 775, 552, 974, 1033, 1915, 6...</td>\n",
              "      <td>[514, 1538, 1323, 1261, 1085, 1906, 565, 222, ...</td>\n",
              "    </tr>\n",
              "    <tr>\n",
              "      <th>3</th>\n",
              "      <td>3</td>\n",
              "      <td>Data Analyst Requisition NumberRR-0001939\\nRem...</td>\n",
              "      <td>data analyst requisition numberrr0001939 remot...</td>\n",
              "      <td>[1883, 165, 631, 234, 305, 2230, 741, 2224, 64...</td>\n",
              "      <td>[234, 95, 1328, 292, 2183, 1356, 654, 327, 115...</td>\n",
              "    </tr>\n",
              "    <tr>\n",
              "      <th>4</th>\n",
              "      <td>4</td>\n",
              "      <td>Reporting Data Analyst ABOUT FANDUEL GROUP\\n\\n...</td>\n",
              "      <td>reporting data analyst about fanduel group fan...</td>\n",
              "      <td>[1588, 1178, 1890, 653, 385, 1983, 681, 252, 1...</td>\n",
              "      <td>[1845, 1047, 513, 627, 1932, 2159, 844, 2157, ...</td>\n",
              "    </tr>\n",
              "    <tr>\n",
              "      <th>...</th>\n",
              "      <td>...</td>\n",
              "      <td>...</td>\n",
              "      <td>...</td>\n",
              "      <td>...</td>\n",
              "      <td>...</td>\n",
              "    </tr>\n",
              "    <tr>\n",
              "      <th>2247</th>\n",
              "      <td>2247</td>\n",
              "      <td>RQS - IHHA - 201900004460 -1q Data Security An...</td>\n",
              "      <td>rqs ihha 201900004460 1q data security analyst...</td>\n",
              "      <td>[2223, 2239, 2204, 2240, 2243, 2221, 1539, 177...</td>\n",
              "      <td>[1352, 284, 701, 2239, 1515, 1317, 1803, 593, ...</td>\n",
              "    </tr>\n",
              "    <tr>\n",
              "      <th>2248</th>\n",
              "      <td>2248</td>\n",
              "      <td>Senior Data Analyst (Corporate Audit) Position...</td>\n",
              "      <td>senior data analyst corporate audit position s...</td>\n",
              "      <td>[1466, 1580, 1835, 2086, 567, 1454, 1882, 2072...</td>\n",
              "      <td>[773, 750, 1894, 501, 19, 155, 2019, 1209, 208...</td>\n",
              "    </tr>\n",
              "    <tr>\n",
              "      <th>2249</th>\n",
              "      <td>2249</td>\n",
              "      <td>Technical Business Analyst (SQL, Data analytic...</td>\n",
              "      <td>technical business analyst sql data analytics ...</td>\n",
              "      <td>[2245, 2216, 2185, 1197, 1194, 2062, 1975, 952...</td>\n",
              "      <td>[2245, 1914, 2011, 741, 174, 479, 187, 1952, 1...</td>\n",
              "    </tr>\n",
              "    <tr>\n",
              "      <th>2250</th>\n",
              "      <td>2250</td>\n",
              "      <td>Data Analyst 3, Customer Experience Summary\\n\\...</td>\n",
              "      <td>data analyst 3 customer experience summary res...</td>\n",
              "      <td>[2233, 2212, 679, 1518, 1624, 741, 2072, 544, ...</td>\n",
              "      <td>[2233, 2212, 794, 1503, 1994, 1190, 397, 2065,...</td>\n",
              "    </tr>\n",
              "    <tr>\n",
              "      <th>2251</th>\n",
              "      <td>2251</td>\n",
              "      <td>Senior Quality Data Analyst You.\\n\\nYou bring ...</td>\n",
              "      <td>senior quality data analyst you you bring your...</td>\n",
              "      <td>[1602, 1191, 1408, 1345, 384, 1882, 460, 1172,...</td>\n",
              "      <td>[1420, 887, 391, 866, 1519, 230, 1685, 1573, 4...</td>\n",
              "    </tr>\n",
              "  </tbody>\n",
              "</table>\n",
              "<p>2252 rows × 5 columns</p>\n",
              "</div>"
            ],
            "text/plain": [
              "      JobId                                      raw_full_text  \\\n",
              "0         0  Data Analyst, Center on Immigration and Justic...   \n",
              "1         1  Quality Data Analyst Overview\\n\\nProvides anal...   \n",
              "2         2  Senior Data Analyst, Insights & Analytics Team...   \n",
              "3         3  Data Analyst Requisition NumberRR-0001939\\nRem...   \n",
              "4         4  Reporting Data Analyst ABOUT FANDUEL GROUP\\n\\n...   \n",
              "...     ...                                                ...   \n",
              "2247   2247  RQS - IHHA - 201900004460 -1q Data Security An...   \n",
              "2248   2248  Senior Data Analyst (Corporate Audit) Position...   \n",
              "2249   2249  Technical Business Analyst (SQL, Data analytic...   \n",
              "2250   2250  Data Analyst 3, Customer Experience Summary\\n\\...   \n",
              "2251   2251  Senior Quality Data Analyst You.\\n\\nYou bring ...   \n",
              "\n",
              "                                              full_text  \\\n",
              "0     data analyst center on immigration and justice...   \n",
              "1     quality data analyst overview provides analyti...   \n",
              "2     senior data analyst insight analytics team cus...   \n",
              "3     data analyst requisition numberrr0001939 remot...   \n",
              "4     reporting data analyst about fanduel group fan...   \n",
              "...                                                 ...   \n",
              "2247  rqs ihha 201900004460 1q data security analyst...   \n",
              "2248  senior data analyst corporate audit position s...   \n",
              "2249  technical business analyst sql data analytics ...   \n",
              "2250  data analyst 3 customer experience summary res...   \n",
              "2251  senior quality data analyst you you bring your...   \n",
              "\n",
              "                              recommendation_list_tfidf  \\\n",
              "0     [57, 1132, 209, 542, 242, 415, 193, 87, 395, 408]   \n",
              "1     [281, 1649, 339, 829, 875, 668, 618, 1345, 277...   \n",
              "2     [1523, 797, 1608, 775, 552, 974, 1033, 1915, 6...   \n",
              "3     [1883, 165, 631, 234, 305, 2230, 741, 2224, 64...   \n",
              "4     [1588, 1178, 1890, 653, 385, 1983, 681, 252, 1...   \n",
              "...                                                 ...   \n",
              "2247  [2223, 2239, 2204, 2240, 2243, 2221, 1539, 177...   \n",
              "2248  [1466, 1580, 1835, 2086, 567, 1454, 1882, 2072...   \n",
              "2249  [2245, 2216, 2185, 1197, 1194, 2062, 1975, 952...   \n",
              "2250  [2233, 2212, 679, 1518, 1624, 741, 2072, 544, ...   \n",
              "2251  [1602, 1191, 1408, 1345, 384, 1882, 460, 1172,...   \n",
              "\n",
              "                            recommendation_list_Doc2Vec  \n",
              "0     [1049, 973, 1560, 1446, 1930, 559, 571, 1044, ...  \n",
              "1     [250, 668, 1618, 467, 1029, 2187, 613, 1528, 1...  \n",
              "2     [514, 1538, 1323, 1261, 1085, 1906, 565, 222, ...  \n",
              "3     [234, 95, 1328, 292, 2183, 1356, 654, 327, 115...  \n",
              "4     [1845, 1047, 513, 627, 1932, 2159, 844, 2157, ...  \n",
              "...                                                 ...  \n",
              "2247  [1352, 284, 701, 2239, 1515, 1317, 1803, 593, ...  \n",
              "2248  [773, 750, 1894, 501, 19, 155, 2019, 1209, 208...  \n",
              "2249  [2245, 1914, 2011, 741, 174, 479, 187, 1952, 1...  \n",
              "2250  [2233, 2212, 794, 1503, 1994, 1190, 397, 2065,...  \n",
              "2251  [1420, 887, 391, 866, 1519, 230, 1685, 1573, 4...  \n",
              "\n",
              "[2252 rows x 5 columns]"
            ]
          },
          "execution_count": 22,
          "metadata": {},
          "output_type": "execute_result"
        }
      ],
      "source": [
        "df['recommendation_list_Doc2Vec'] = None\n",
        "for indx in df.index:\n",
        "    df.at[indx, 'recommendation_list_Doc2Vec'] = [item for item, score in model.dv.most_similar(df.at[indx, 'JobId'], topn=10)]\n",
        "\n",
        "df"
      ]
    },
    {
      "cell_type": "markdown",
      "id": "51882f1b",
      "metadata": {
        "id": "51882f1b"
      },
      "source": [
        "## Iteration3: Text similarity with Contextual Embedding (BERT)"
      ]
    },
    {
      "cell_type": "code",
      "execution_count": null,
      "id": "3be6cb29",
      "metadata": {
        "id": "3be6cb29"
      },
      "outputs": [],
      "source": [
        "from sentence_transformers import SentenceTransformer\n",
        "\n",
        "model = SentenceTransformer('bert-base-nli-mean-tokens')\n",
        "\n",
        "## Bert is a contextual algorithm it doesnot require Text Preprocessing and Lemma\n",
        "corpus = df.raw_full_text.values.tolist()"
      ]
    },
    {
      "cell_type": "code",
      "execution_count": null,
      "id": "15980caf",
      "metadata": {
        "id": "15980caf"
      },
      "outputs": [],
      "source": [
        "# encode corpus\n",
        "\n",
        "sentence_embeddings = model.encode(corpus)"
      ]
    },
    {
      "cell_type": "code",
      "execution_count": null,
      "id": "96440624",
      "metadata": {
        "id": "96440624",
        "outputId": "17d84c6b-fd82-4c21-ccaa-24085d5162ed"
      },
      "outputs": [
        {
          "data": {
            "text/plain": [
              "(2252, 768)"
            ]
          },
          "execution_count": 25,
          "metadata": {},
          "output_type": "execute_result"
        }
      ],
      "source": [
        "sentence_embeddings.shape"
      ]
    },
    {
      "cell_type": "code",
      "execution_count": null,
      "id": "d470c516",
      "metadata": {
        "id": "d470c516"
      },
      "outputs": [],
      "source": [
        "similarity_matrix_bert = cosine_similarity(sentence_embeddings, sentence_embeddings)"
      ]
    },
    {
      "cell_type": "code",
      "execution_count": null,
      "id": "9f2394af",
      "metadata": {
        "id": "9f2394af"
      },
      "outputs": [],
      "source": [
        "df['recommendation_list_bert'] = None\n",
        "topK = 10\n",
        "for indx in df.index:\n",
        "    df.at[indx, 'recommendation_list_bert'] = [a for a,b in heapq.nlargest(topK+1, enumerate(similarity_matrix[df[df['JobId']==df.at[indx, 'JobId']].index[0]]), key=lambda x: x[1])][1:]\n"
      ]
    },
    {
      "cell_type": "code",
      "execution_count": null,
      "id": "0946bdd2",
      "metadata": {
        "id": "0946bdd2",
        "outputId": "b266f6be-a824-4139-c97b-01a699459092"
      },
      "outputs": [
        {
          "data": {
            "text/html": [
              "<div>\n",
              "<style scoped>\n",
              "    .dataframe tbody tr th:only-of-type {\n",
              "        vertical-align: middle;\n",
              "    }\n",
              "\n",
              "    .dataframe tbody tr th {\n",
              "        vertical-align: top;\n",
              "    }\n",
              "\n",
              "    .dataframe thead th {\n",
              "        text-align: right;\n",
              "    }\n",
              "</style>\n",
              "<table border=\"1\" class=\"dataframe\">\n",
              "  <thead>\n",
              "    <tr style=\"text-align: right;\">\n",
              "      <th></th>\n",
              "      <th>JobId</th>\n",
              "      <th>raw_full_text</th>\n",
              "      <th>full_text</th>\n",
              "      <th>recommendation_list_tfidf</th>\n",
              "      <th>recommendation_list_Doc2Vec</th>\n",
              "      <th>recommendation_list_bert</th>\n",
              "    </tr>\n",
              "  </thead>\n",
              "  <tbody>\n",
              "    <tr>\n",
              "      <th>0</th>\n",
              "      <td>0</td>\n",
              "      <td>Data Analyst, Center on Immigration and Justic...</td>\n",
              "      <td>data analyst center on immigration and justice...</td>\n",
              "      <td>[57, 1132, 209, 542, 242, 415, 193, 87, 395, 408]</td>\n",
              "      <td>[1049, 973, 1560, 1446, 1930, 559, 571, 1044, ...</td>\n",
              "      <td>[57, 1132, 209, 542, 242, 415, 193, 87, 395, 408]</td>\n",
              "    </tr>\n",
              "    <tr>\n",
              "      <th>1</th>\n",
              "      <td>1</td>\n",
              "      <td>Quality Data Analyst Overview\\n\\nProvides anal...</td>\n",
              "      <td>quality data analyst overview provides analyti...</td>\n",
              "      <td>[281, 1649, 339, 829, 875, 668, 618, 1345, 277...</td>\n",
              "      <td>[250, 668, 1618, 467, 1029, 2187, 613, 1528, 1...</td>\n",
              "      <td>[281, 1649, 339, 829, 875, 668, 618, 1345, 277...</td>\n",
              "    </tr>\n",
              "    <tr>\n",
              "      <th>2</th>\n",
              "      <td>2</td>\n",
              "      <td>Senior Data Analyst, Insights &amp; Analytics Team...</td>\n",
              "      <td>senior data analyst insight analytics team cus...</td>\n",
              "      <td>[1523, 797, 1608, 775, 552, 974, 1033, 1915, 6...</td>\n",
              "      <td>[514, 1538, 1323, 1261, 1085, 1906, 565, 222, ...</td>\n",
              "      <td>[1523, 797, 1608, 775, 552, 974, 1033, 1915, 6...</td>\n",
              "    </tr>\n",
              "    <tr>\n",
              "      <th>3</th>\n",
              "      <td>3</td>\n",
              "      <td>Data Analyst Requisition NumberRR-0001939\\nRem...</td>\n",
              "      <td>data analyst requisition numberrr0001939 remot...</td>\n",
              "      <td>[1883, 165, 631, 234, 305, 2230, 741, 2224, 64...</td>\n",
              "      <td>[234, 95, 1328, 292, 2183, 1356, 654, 327, 115...</td>\n",
              "      <td>[1883, 165, 631, 234, 305, 2230, 741, 2224, 64...</td>\n",
              "    </tr>\n",
              "    <tr>\n",
              "      <th>4</th>\n",
              "      <td>4</td>\n",
              "      <td>Reporting Data Analyst ABOUT FANDUEL GROUP\\n\\n...</td>\n",
              "      <td>reporting data analyst about fanduel group fan...</td>\n",
              "      <td>[1588, 1178, 1890, 653, 385, 1983, 681, 252, 1...</td>\n",
              "      <td>[1845, 1047, 513, 627, 1932, 2159, 844, 2157, ...</td>\n",
              "      <td>[1588, 1178, 1890, 653, 385, 1983, 681, 252, 1...</td>\n",
              "    </tr>\n",
              "    <tr>\n",
              "      <th>...</th>\n",
              "      <td>...</td>\n",
              "      <td>...</td>\n",
              "      <td>...</td>\n",
              "      <td>...</td>\n",
              "      <td>...</td>\n",
              "      <td>...</td>\n",
              "    </tr>\n",
              "    <tr>\n",
              "      <th>2247</th>\n",
              "      <td>2247</td>\n",
              "      <td>RQS - IHHA - 201900004460 -1q Data Security An...</td>\n",
              "      <td>rqs ihha 201900004460 1q data security analyst...</td>\n",
              "      <td>[2223, 2239, 2204, 2240, 2243, 2221, 1539, 177...</td>\n",
              "      <td>[1352, 284, 701, 2239, 1515, 1317, 1803, 593, ...</td>\n",
              "      <td>[2223, 2239, 2204, 2240, 2243, 2221, 1539, 177...</td>\n",
              "    </tr>\n",
              "    <tr>\n",
              "      <th>2248</th>\n",
              "      <td>2248</td>\n",
              "      <td>Senior Data Analyst (Corporate Audit) Position...</td>\n",
              "      <td>senior data analyst corporate audit position s...</td>\n",
              "      <td>[1466, 1580, 1835, 2086, 567, 1454, 1882, 2072...</td>\n",
              "      <td>[773, 750, 1894, 501, 19, 155, 2019, 1209, 208...</td>\n",
              "      <td>[1466, 1580, 1835, 2086, 567, 1454, 1882, 2072...</td>\n",
              "    </tr>\n",
              "    <tr>\n",
              "      <th>2249</th>\n",
              "      <td>2249</td>\n",
              "      <td>Technical Business Analyst (SQL, Data analytic...</td>\n",
              "      <td>technical business analyst sql data analytics ...</td>\n",
              "      <td>[2245, 2216, 2185, 1197, 1194, 2062, 1975, 952...</td>\n",
              "      <td>[2245, 1914, 2011, 741, 174, 479, 187, 1952, 1...</td>\n",
              "      <td>[2245, 2216, 2185, 1197, 1194, 2062, 1975, 952...</td>\n",
              "    </tr>\n",
              "    <tr>\n",
              "      <th>2250</th>\n",
              "      <td>2250</td>\n",
              "      <td>Data Analyst 3, Customer Experience Summary\\n\\...</td>\n",
              "      <td>data analyst 3 customer experience summary res...</td>\n",
              "      <td>[2233, 2212, 679, 1518, 1624, 741, 2072, 544, ...</td>\n",
              "      <td>[2233, 2212, 794, 1503, 1994, 1190, 397, 2065,...</td>\n",
              "      <td>[2233, 2212, 679, 1518, 1624, 741, 2072, 544, ...</td>\n",
              "    </tr>\n",
              "    <tr>\n",
              "      <th>2251</th>\n",
              "      <td>2251</td>\n",
              "      <td>Senior Quality Data Analyst You.\\n\\nYou bring ...</td>\n",
              "      <td>senior quality data analyst you you bring your...</td>\n",
              "      <td>[1602, 1191, 1408, 1345, 384, 1882, 460, 1172,...</td>\n",
              "      <td>[1420, 887, 391, 866, 1519, 230, 1685, 1573, 4...</td>\n",
              "      <td>[1602, 1191, 1408, 1345, 384, 1882, 460, 1172,...</td>\n",
              "    </tr>\n",
              "  </tbody>\n",
              "</table>\n",
              "<p>2252 rows × 6 columns</p>\n",
              "</div>"
            ],
            "text/plain": [
              "      JobId                                      raw_full_text  \\\n",
              "0         0  Data Analyst, Center on Immigration and Justic...   \n",
              "1         1  Quality Data Analyst Overview\\n\\nProvides anal...   \n",
              "2         2  Senior Data Analyst, Insights & Analytics Team...   \n",
              "3         3  Data Analyst Requisition NumberRR-0001939\\nRem...   \n",
              "4         4  Reporting Data Analyst ABOUT FANDUEL GROUP\\n\\n...   \n",
              "...     ...                                                ...   \n",
              "2247   2247  RQS - IHHA - 201900004460 -1q Data Security An...   \n",
              "2248   2248  Senior Data Analyst (Corporate Audit) Position...   \n",
              "2249   2249  Technical Business Analyst (SQL, Data analytic...   \n",
              "2250   2250  Data Analyst 3, Customer Experience Summary\\n\\...   \n",
              "2251   2251  Senior Quality Data Analyst You.\\n\\nYou bring ...   \n",
              "\n",
              "                                              full_text  \\\n",
              "0     data analyst center on immigration and justice...   \n",
              "1     quality data analyst overview provides analyti...   \n",
              "2     senior data analyst insight analytics team cus...   \n",
              "3     data analyst requisition numberrr0001939 remot...   \n",
              "4     reporting data analyst about fanduel group fan...   \n",
              "...                                                 ...   \n",
              "2247  rqs ihha 201900004460 1q data security analyst...   \n",
              "2248  senior data analyst corporate audit position s...   \n",
              "2249  technical business analyst sql data analytics ...   \n",
              "2250  data analyst 3 customer experience summary res...   \n",
              "2251  senior quality data analyst you you bring your...   \n",
              "\n",
              "                              recommendation_list_tfidf  \\\n",
              "0     [57, 1132, 209, 542, 242, 415, 193, 87, 395, 408]   \n",
              "1     [281, 1649, 339, 829, 875, 668, 618, 1345, 277...   \n",
              "2     [1523, 797, 1608, 775, 552, 974, 1033, 1915, 6...   \n",
              "3     [1883, 165, 631, 234, 305, 2230, 741, 2224, 64...   \n",
              "4     [1588, 1178, 1890, 653, 385, 1983, 681, 252, 1...   \n",
              "...                                                 ...   \n",
              "2247  [2223, 2239, 2204, 2240, 2243, 2221, 1539, 177...   \n",
              "2248  [1466, 1580, 1835, 2086, 567, 1454, 1882, 2072...   \n",
              "2249  [2245, 2216, 2185, 1197, 1194, 2062, 1975, 952...   \n",
              "2250  [2233, 2212, 679, 1518, 1624, 741, 2072, 544, ...   \n",
              "2251  [1602, 1191, 1408, 1345, 384, 1882, 460, 1172,...   \n",
              "\n",
              "                            recommendation_list_Doc2Vec  \\\n",
              "0     [1049, 973, 1560, 1446, 1930, 559, 571, 1044, ...   \n",
              "1     [250, 668, 1618, 467, 1029, 2187, 613, 1528, 1...   \n",
              "2     [514, 1538, 1323, 1261, 1085, 1906, 565, 222, ...   \n",
              "3     [234, 95, 1328, 292, 2183, 1356, 654, 327, 115...   \n",
              "4     [1845, 1047, 513, 627, 1932, 2159, 844, 2157, ...   \n",
              "...                                                 ...   \n",
              "2247  [1352, 284, 701, 2239, 1515, 1317, 1803, 593, ...   \n",
              "2248  [773, 750, 1894, 501, 19, 155, 2019, 1209, 208...   \n",
              "2249  [2245, 1914, 2011, 741, 174, 479, 187, 1952, 1...   \n",
              "2250  [2233, 2212, 794, 1503, 1994, 1190, 397, 2065,...   \n",
              "2251  [1420, 887, 391, 866, 1519, 230, 1685, 1573, 4...   \n",
              "\n",
              "                               recommendation_list_bert  \n",
              "0     [57, 1132, 209, 542, 242, 415, 193, 87, 395, 408]  \n",
              "1     [281, 1649, 339, 829, 875, 668, 618, 1345, 277...  \n",
              "2     [1523, 797, 1608, 775, 552, 974, 1033, 1915, 6...  \n",
              "3     [1883, 165, 631, 234, 305, 2230, 741, 2224, 64...  \n",
              "4     [1588, 1178, 1890, 653, 385, 1983, 681, 252, 1...  \n",
              "...                                                 ...  \n",
              "2247  [2223, 2239, 2204, 2240, 2243, 2221, 1539, 177...  \n",
              "2248  [1466, 1580, 1835, 2086, 567, 1454, 1882, 2072...  \n",
              "2249  [2245, 2216, 2185, 1197, 1194, 2062, 1975, 952...  \n",
              "2250  [2233, 2212, 679, 1518, 1624, 741, 2072, 544, ...  \n",
              "2251  [1602, 1191, 1408, 1345, 384, 1882, 460, 1172,...  \n",
              "\n",
              "[2252 rows x 6 columns]"
            ]
          },
          "execution_count": 28,
          "metadata": {},
          "output_type": "execute_result"
        }
      ],
      "source": [
        "df"
      ]
    },
    {
      "cell_type": "markdown",
      "id": "abc0dcd6",
      "metadata": {
        "id": "abc0dcd6"
      },
      "source": [
        "#### To evaluate these methods in production, we can perform A-B Testing and check business metrics ClickThroughRate.\n",
        "#### If DataOps manual team support is possible, we can have ranking metrics of recommendation method: Mean Reciprocal Rank, Mean Average Precision and nDCG for each of the method. "
      ]
    },
    {
      "cell_type": "markdown",
      "id": "a71ec384",
      "metadata": {
        "id": "a71ec384"
      },
      "source": [
        "##### Evaluation Proxy: \n",
        "    Score = (Summation(Number of Items within top10 have product category = reference product_category / Number of Items (in our case 10) ))"
      ]
    },
    {
      "cell_type": "code",
      "execution_count": null,
      "id": "c02c58ea",
      "metadata": {
        "id": "c02c58ea"
      },
      "outputs": [],
      "source": [
        ""
      ]
    }
  ],
  "metadata": {
    "kernelspec": {
      "display_name": "Python 3",
      "language": "python",
      "name": "python3"
    },
    "language_info": {
      "codemirror_mode": {
        "name": "ipython",
        "version": 3
      },
      "file_extension": ".py",
      "mimetype": "text/x-python",
      "name": "python",
      "nbconvert_exporter": "python",
      "pygments_lexer": "ipython3",
      "version": "3.8.8"
    },
    "colab": {
      "name": "Recommendation (Data Modeling) - JobDescription Similarity.ipynb",
      "provenance": []
    }
  },
  "nbformat": 4,
  "nbformat_minor": 5
}